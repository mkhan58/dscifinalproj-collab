{
 "cells": [
  {
   "cell_type": "code",
   "execution_count": 12,
   "id": "6d5cfd69",
   "metadata": {},
   "outputs": [],
   "source": [
    "from bs4 import BeautifulSoup\n",
    "import requests\n",
    "import pandas as pd\n",
    "import numpy as np\n",
    "import matplotlib.pyplot as plt\n",
    "\n",
    "url = \"https://en.wikipedia.org/wiki/List_of_United_States_cities_by_crime_rate\"\n",
    "\n",
    "try:\n",
    "    resp = requests.get(url)\n",
    "except Exception as e:\n",
    "    print(\"Invalid url\")\n",
    "    raise e\n",
    "\n",
    "with open('data/raw/crime.html', 'w') as f:\n",
    "    f.write(resp.text)"
   ]
  },
  {
   "cell_type": "code",
   "execution_count": 13,
   "id": "1b90dc45",
   "metadata": {},
   "outputs": [],
   "source": [
    "soup = BeautifulSoup(resp.text, 'html')\n",
    "table = soup.find_all('table')[0]\n",
    "\n",
    "with open('data/raw/crime_table', 'w') as f:\n",
    "    f.write(str(table))"
   ]
  },
  {
   "cell_type": "code",
   "execution_count": 14,
   "id": "9111ef3a",
   "metadata": {},
   "outputs": [],
   "source": [
    "url = \"https://www.archives.gov/electoral-college/2020\"\n",
    "\n",
    "try:\n",
    "    resp = requests.get(url)\n",
    "except Exception as e:\n",
    "    print(\"Invalid url\")\n",
    "    raise e\n",
    "    \n",
    "with open('data/raw/election.html', 'w') as f:\n",
    "    f.write(resp.text)"
   ]
  },
  {
   "cell_type": "code",
   "execution_count": 15,
   "id": "16ef8fb6",
   "metadata": {},
   "outputs": [],
   "source": [
    "soup = BeautifulSoup(resp.text, 'html')\n",
    "table = soup.find_all('table')[0]\n",
    "\n",
    "with open('data/raw/election_table', 'w') as f:\n",
    "    f.write(str(table))"
   ]
  }
 ],
 "metadata": {
  "kernelspec": {
   "display_name": "Python 3",
   "language": "python",
   "name": "python3"
  },
  "language_info": {
   "codemirror_mode": {
    "name": "ipython",
    "version": 3
   },
   "file_extension": ".py",
   "mimetype": "text/x-python",
   "name": "python",
   "nbconvert_exporter": "python",
   "pygments_lexer": "ipython3",
   "version": "3.8.8"
  }
 },
 "nbformat": 4,
 "nbformat_minor": 5
}
