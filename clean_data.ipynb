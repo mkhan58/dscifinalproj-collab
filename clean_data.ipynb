{
 "cells": [
  {
   "cell_type": "code",
   "execution_count": 3,
   "id": "0c622bfd",
   "metadata": {},
   "outputs": [],
   "source": [
    "from bs4 import BeautifulSoup\n",
    "import pandas as pd\n",
    "import numpy as np\n",
    "import matplotlib.pyplot as plt\n",
    "import geoplot as gplt\n",
    "import geopandas as gpd\n",
    "\n",
    "with open('data/raw/crime.html') as f:\n",
    "    soup = BeautifulSoup(f.read(), 'lxml')\n",
    "    table = soup.find_all('table')[0]\n",
    "    data_columns = table.find_all('th')\n",
    "    column_data = table.find_all('tr')\n",
    "\n",
    "    cols_to_use = [name.text.strip() for name in data_columns]\n",
    "\n",
    "    cols_to_use.remove('Yearly Crime Rates per 100,000 people')\n",
    "    cols_to_use.remove('Violent crime')\n",
    "    cols_to_use.remove('Property crime')\n",
    "\n",
    "    cols_to_use[3] = 'Total (Violent and Property)'\n",
    "    cols_to_use[9] = \"Total Violent\"\n",
    "    cols_to_use[13] = \"Total Property\"\n",
    "\n",
    "    element = cols_to_use.pop(4)\n",
    "    cols_to_use.insert(13, element)\n",
    "    \n",
    "    crime_data = pd.DataFrame(columns = cols_to_use)\n",
    "\n",
    "    for row in column_data[3:]:\n",
    "        row_data = row.find_all('td')\n",
    "        individual_row_data = [data.text.strip() for data in row_data]\n",
    "        crime_data.loc[len(crime_data)] = individual_row_data\n",
    "\n",
    "    crime_data.at[0, 'City'] = 'Mobile'\n",
    "    crime_data.at[26, 'City'] = 'Stockton'\n",
    "    crime_data.at[73, 'City'] = 'Toledo'\n",
    "    crime_data.at[81, 'City'] = 'Arlington'\n",
    "    crime_data.at[47, 'City'] = 'Louisville Metro'\n",
    "    \n",
    "    new_columns = {'Murder andNonnegligentmanslaughter': 'Murder/Manslaughter', \n",
    "               'Rape1': 'Rape',\n",
    "               'Aggravatedassault': 'Assault',\n",
    "               'Larceny-theft': 'Larceny/Theft',\n",
    "               'Motorvehicletheft': 'Vehicle Theft',\n",
    "               'Arson2' : 'Arson'}\n",
    "    crime_data.rename(columns = new_columns, inplace=True)\n",
    "    \n",
    "    crime_data['Population'] = pd.to_numeric(crime_data['Population'].replace(',', '', regex=True), errors='coerce')\n",
    "    crime_data['Total Property'] = pd.to_numeric(crime_data['Total Property'].replace(',', '', regex=True), errors='coerce')\n",
    "    crime_data['Larceny/Theft'] = pd.to_numeric(crime_data['Larceny/Theft'].replace(',', '', regex=True), errors='coerce')\n",
    "    crime_data['Burglary'] = pd.to_numeric(crime_data['Burglary'].replace(',', '', regex=True), errors='coerce')\n",
    "    crime_data['Vehicle Theft'] = pd.to_numeric(crime_data['Vehicle Theft'].replace(',', '', regex=True), errors='coerce')\n",
    "    crime_data['Assault'] = pd.to_numeric(crime_data['Assault'].replace(',', '', regex=True), errors='coerce')\n",
    "    crime_data['Rape'] = pd.to_numeric(crime_data['Rape'].replace(',', '', regex=True), errors='coerce')\n",
    "    crime_data['Arson'] = pd.to_numeric(crime_data['Arson'].replace(',', '', regex=True), errors='coerce')\n",
    "    crime_data['Total Violent'] = pd.to_numeric(crime_data['Total Violent'].replace(',', '', regex=True), errors='coerce')\n",
    "\n",
    "    crime_data['Total (Violent and Property)'] = pd.to_numeric(crime_data['Total (Violent and Property)'], errors='coerce')\n",
    "    crime_data['Murder/Manslaughter'] = pd.to_numeric(crime_data['Murder/Manslaughter'], errors='coerce')\n",
    "    crime_data['Robbery'] = pd.to_numeric(crime_data['Robbery'], errors='coerce')\n",
    "    \n",
    "    crime_data.to_csv('data/processed/crime_data.csv')"
   ]
  },
  {
   "cell_type": "code",
   "execution_count": 4,
   "id": "ec3caaf8",
   "metadata": {},
   "outputs": [],
   "source": [
    "crime_data = pd.read_csv('data/processed/crime_data.csv')\n",
    "\n",
    "missingval_col = ['Rape', 'Total Violent', 'Arson']\n",
    "\n",
    "#Get mean within each column\n",
    "mean_values = crime_data[missingval_col].mean() \n",
    "\n",
    "#Fill with mean imputation\n",
    "crime_data[missingval_col] = crime_data[missingval_col].fillna(mean_values)"
   ]
  },
  {
   "cell_type": "code",
   "execution_count": 6,
   "id": "d257e57c",
   "metadata": {},
   "outputs": [],
   "source": [
    "crime_data = crime_data.drop(columns = ['Unnamed: 0'])"
   ]
  },
  {
   "cell_type": "code",
   "execution_count": 8,
   "id": "0e5c5022",
   "metadata": {},
   "outputs": [],
   "source": [
    "crime_data.to_csv('data/processed/crime_data.csv')"
   ]
  },
  {
   "cell_type": "code",
   "execution_count": 10,
   "id": "e0e971b8",
   "metadata": {},
   "outputs": [],
   "source": [
    "with open('data/raw/election.html') as f:\n",
    "    soup = BeautifulSoup(f.read(), 'lxml')\n",
    "    table = soup.find_all('table')[1]\n",
    "    data_columns = table.find_all('th')\n",
    "    column_data = table.find_all('tr')\n",
    "\n",
    "    data_columns = table.find_all('th')\n",
    "    data_columns = [name.text.strip() for name in data_columns]\n",
    "\n",
    "    election_data = pd.DataFrame(columns=['State', 'ElectoralVotes', 'DemPresident', 'RepPresident', 'DemVP', 'RepVP'])\n",
    "    column_data = table.find_all('tr')\n",
    "\n",
    "    for row in column_data[2:]:\n",
    "        row_data = row.find_all('td')\n",
    "        individual_row_data = [data.text.strip() for data in row_data]\n",
    "        election_data = election_data.append(pd.Series(individual_row_data, index=election_data.columns[:len(individual_row_data)]), ignore_index=True)\n",
    "    \n",
    "    election_data = election_data.drop([election_data.index[52], election_data.index[51]])\n",
    "    \n",
    "    election_data.to_csv('data/processed/election_data.csv')"
   ]
  },
  {
   "cell_type": "code",
   "execution_count": 9,
   "id": "39bd69b0",
   "metadata": {},
   "outputs": [],
   "source": [
    "election_data = pd.read_csv('data/processed/election_data.csv')\n",
    "\n",
    "red_states = list(election_data.iloc[list(election_data['DemPresident'] == '-')]['State'])\n",
    "red_states.append(str(election_data.iloc[list(election_data['DemPresident'] == '1')]['State']))\n",
    "red_states[24] = 'Nebraska'\n",
    "\n",
    "crime_data['blue'] = ['Red' if state in red_states else 'Blue' for state in crime_data['State']]"
   ]
  },
  {
   "cell_type": "code",
   "execution_count": 10,
   "id": "dfd3868a",
   "metadata": {},
   "outputs": [],
   "source": [
    "crime_data.to_csv('data/processed/crime_and_election_data.csv')"
   ]
  },
  {
   "cell_type": "code",
   "execution_count": 11,
   "id": "0e560a6f",
   "metadata": {},
   "outputs": [],
   "source": [
    "path = gplt.datasets.get_path(\"contiguous_usa\")\n",
    "contiguous_usa = gpd.read_file(path)\n",
    "\n",
    "contiguous_usa = contiguous_usa.rename(columns={\"state\": \"State\"})\n",
    "contiguous_usa_new = pd.merge(crime_data, contiguous_usa, on='State')\n",
    "\n",
    "contiguous_usa_new.to_csv('data/processed/crime_election_geo_data.csv')"
   ]
  },
  {
   "cell_type": "code",
   "execution_count": null,
   "id": "e6a4aff5",
   "metadata": {},
   "outputs": [],
   "source": []
  }
 ],
 "metadata": {
  "kernelspec": {
   "display_name": "Python 3",
   "language": "python",
   "name": "python3"
  },
  "language_info": {
   "codemirror_mode": {
    "name": "ipython",
    "version": 3
   },
   "file_extension": ".py",
   "mimetype": "text/x-python",
   "name": "python",
   "nbconvert_exporter": "python",
   "pygments_lexer": "ipython3",
   "version": "3.8.8"
  }
 },
 "nbformat": 4,
 "nbformat_minor": 5
}
