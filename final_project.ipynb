{
 "cells": [
  {
   "cell_type": "code",
   "execution_count": 1,
   "metadata": {},
   "outputs": [],
   "source": [
    "from bs4 import BeautifulSoup\n",
    "import requests\n",
    "import pandas as pd\n",
    "import matplotlib.pyplot as plt\n",
    "import seaborn as sns"
   ]
  },
  {
   "cell_type": "markdown",
   "metadata": {},
   "source": [
    "## Data Collection"
   ]
  },
  {
   "cell_type": "markdown",
   "metadata": {},
   "source": [
    "#### Using API"
   ]
  },
  {
   "cell_type": "code",
   "execution_count": 2,
   "metadata": {},
   "outputs": [],
   "source": [
    "url = 'https://en.wikipedia.org/wiki/List_of_United_States_cities_by_crime_rate'"
   ]
  },
  {
   "cell_type": "code",
   "execution_count": 3,
   "metadata": {},
   "outputs": [],
   "source": [
    "try:\n",
    "    resp = requests.get(url)\n",
    "except Exception as e:\n",
    "    print(\"Invalid url\")\n",
    "    raise e"
   ]
  },
  {
   "cell_type": "code",
   "execution_count": 4,
   "metadata": {},
   "outputs": [],
   "source": [
    "soup = BeautifulSoup(resp.text, 'html')\n",
    "table = soup.find_all('table')[0]"
   ]
  },
  {
   "cell_type": "markdown",
   "metadata": {},
   "source": [
    "## Data Preprocessing"
   ]
  },
  {
   "cell_type": "markdown",
   "metadata": {},
   "source": [
    "#### Select column names"
   ]
  },
  {
   "cell_type": "code",
   "execution_count": 5,
   "metadata": {},
   "outputs": [],
   "source": [
    "data_columns = table.find_all('th')\n",
    "data_columns = [name.text.strip() for name in data_columns]"
   ]
  },
  {
   "cell_type": "markdown",
   "metadata": {},
   "source": [
    "#### Remove columns"
   ]
  },
  {
   "cell_type": "code",
   "execution_count": 6,
   "metadata": {},
   "outputs": [],
   "source": [
    "data_columns.remove('Yearly Crime Rates per 100,000 people')\n",
    "data_columns.remove('Violent crime')\n",
    "data_columns.remove('Property crime')"
   ]
  },
  {
   "cell_type": "markdown",
   "metadata": {},
   "source": [
    "#### Rename columns"
   ]
  },
  {
   "cell_type": "code",
   "execution_count": 7,
   "metadata": {},
   "outputs": [],
   "source": [
    "data_columns[3] = 'Total (Violent and Property)'\n",
    "data_columns[9] = 'Total Violent'\n",
    "data_columns[13] = 'Total Property'"
   ]
  },
  {
   "cell_type": "markdown",
   "metadata": {},
   "source": [
    "#### Reorder columns"
   ]
  },
  {
   "cell_type": "code",
   "execution_count": 8,
   "metadata": {},
   "outputs": [],
   "source": [
    "element = data_columns.pop(4)\n",
    "data_columns.insert(13, element)"
   ]
  },
  {
   "cell_type": "markdown",
   "metadata": {},
   "source": [
    "#### Store as DataFrame"
   ]
  },
  {
   "cell_type": "code",
   "execution_count": 9,
   "metadata": {},
   "outputs": [],
   "source": [
    "crime_data = pd.DataFrame(columns = data_columns)\n",
    "column_data = table.find_all('tr')"
   ]
  },
  {
   "cell_type": "code",
   "execution_count": 10,
   "metadata": {},
   "outputs": [],
   "source": [
    "for row in column_data[3:]:\n",
    "    row_data = row.find_all('td')\n",
    "    individual_row_data = [data.text.strip() for data in row_data]\n",
    "    crime_data.loc[len(crime_data)] = individual_row_data"
   ]
  },
  {
   "cell_type": "markdown",
   "metadata": {},
   "source": [
    "#### Fix values with numbers"
   ]
  },
  {
   "cell_type": "code",
   "execution_count": 11,
   "metadata": {},
   "outputs": [],
   "source": [
    "crime_data.at[0, 'City'] = 'Mobile'\n",
    "crime_data.at[26, 'City'] = 'Stockton'\n",
    "crime_data.at[73, 'City'] = 'Toledo'\n",
    "crime_data.at[81, 'City'] = 'Arlington'\n",
    "crime_data.at[47, 'City'] = 'Louisville Metro'"
   ]
  },
  {
   "cell_type": "markdown",
   "metadata": {},
   "source": [
    "#### Rename columns to be clearer"
   ]
  },
  {
   "cell_type": "code",
   "execution_count": 12,
   "metadata": {},
   "outputs": [],
   "source": [
    "new_columns = {'Murder andNonnegligentmanslaughter': 'Murder/Manslaughter', \n",
    "               'Rape1': 'Rape',\n",
    "               'Aggravatedassault': 'Assault',\n",
    "               'Larceny-theft': 'Larceny/Theft',\n",
    "               'Motorvehicletheft': 'Vehicle Theft',\n",
    "               'Arson2' : 'Arson'}\n",
    "crime_data.rename(columns = new_columns, inplace=True)"
   ]
  },
  {
   "cell_type": "code",
   "execution_count": 13,
   "metadata": {},
   "outputs": [
    {
     "data": {
      "text/html": [
       "<div>\n",
       "<style scoped>\n",
       "    .dataframe tbody tr th:only-of-type {\n",
       "        vertical-align: middle;\n",
       "    }\n",
       "\n",
       "    .dataframe tbody tr th {\n",
       "        vertical-align: top;\n",
       "    }\n",
       "\n",
       "    .dataframe thead th {\n",
       "        text-align: right;\n",
       "    }\n",
       "</style>\n",
       "<table border=\"1\" class=\"dataframe\">\n",
       "  <thead>\n",
       "    <tr style=\"text-align: right;\">\n",
       "      <th></th>\n",
       "      <th>State</th>\n",
       "      <th>City</th>\n",
       "      <th>Population</th>\n",
       "      <th>Total (Violent and Property)</th>\n",
       "      <th>Murder/Manslaughter</th>\n",
       "      <th>Rape</th>\n",
       "      <th>Robbery</th>\n",
       "      <th>Assault</th>\n",
       "      <th>Total Violent</th>\n",
       "      <th>Burglary</th>\n",
       "      <th>Larceny/Theft</th>\n",
       "      <th>Vehicle Theft</th>\n",
       "      <th>Total Property</th>\n",
       "      <th>Arson</th>\n",
       "    </tr>\n",
       "  </thead>\n",
       "  <tbody>\n",
       "    <tr>\n",
       "      <th>0</th>\n",
       "      <td>Alabama</td>\n",
       "      <td>Mobile</td>\n",
       "      <td>248,431</td>\n",
       "      <td>6217.02</td>\n",
       "      <td>20.13</td>\n",
       "      <td>58.16</td>\n",
       "      <td>177.11</td>\n",
       "      <td>485.85</td>\n",
       "      <td>740.25</td>\n",
       "      <td>1,216.84</td>\n",
       "      <td>3,730.21</td>\n",
       "      <td>506.78</td>\n",
       "      <td>5,453.83</td>\n",
       "      <td>22.94</td>\n",
       "    </tr>\n",
       "    <tr>\n",
       "      <th>1</th>\n",
       "      <td>Alaska</td>\n",
       "      <td>Anchorage</td>\n",
       "      <td>296,188</td>\n",
       "      <td>6640.04</td>\n",
       "      <td>9.12</td>\n",
       "      <td>132.01</td>\n",
       "      <td>262.67</td>\n",
       "      <td>799.49</td>\n",
       "      <td>1,203.29</td>\n",
       "      <td>748.17</td>\n",
       "      <td>3,619.66</td>\n",
       "      <td>1,047.98</td>\n",
       "      <td>5,415.82</td>\n",
       "      <td>20.93</td>\n",
       "    </tr>\n",
       "    <tr>\n",
       "      <th>2</th>\n",
       "      <td>Arizona</td>\n",
       "      <td>Chandler</td>\n",
       "      <td>249,355</td>\n",
       "      <td>2589.08</td>\n",
       "      <td>2.01</td>\n",
       "      <td>52.13</td>\n",
       "      <td>56.95</td>\n",
       "      <td>148.68</td>\n",
       "      <td>259.47</td>\n",
       "      <td>314.41</td>\n",
       "      <td>1,866.01</td>\n",
       "      <td>149.18</td>\n",
       "      <td>2,329.61</td>\n",
       "      <td></td>\n",
       "    </tr>\n",
       "    <tr>\n",
       "      <th>3</th>\n",
       "      <td>Arizona</td>\n",
       "      <td>Gilbert</td>\n",
       "      <td>242,090</td>\n",
       "      <td>1483.75</td>\n",
       "      <td>2.07</td>\n",
       "      <td>16.11</td>\n",
       "      <td>21.07</td>\n",
       "      <td>46.26</td>\n",
       "      <td>85.51</td>\n",
       "      <td>192.49</td>\n",
       "      <td>1,137.59</td>\n",
       "      <td>55.76</td>\n",
       "      <td>1,385.85</td>\n",
       "      <td>12.39</td>\n",
       "    </tr>\n",
       "    <tr>\n",
       "      <th>4</th>\n",
       "      <td>Arizona</td>\n",
       "      <td>Glendale</td>\n",
       "      <td>249,273</td>\n",
       "      <td>5037.85</td>\n",
       "      <td>4.81</td>\n",
       "      <td>38.91</td>\n",
       "      <td>192.96</td>\n",
       "      <td>251.53</td>\n",
       "      <td>488.22</td>\n",
       "      <td>637.45</td>\n",
       "      <td>3,426.36</td>\n",
       "      <td>466.56</td>\n",
       "      <td>4,530.37</td>\n",
       "      <td>19.26</td>\n",
       "    </tr>\n",
       "    <tr>\n",
       "      <th>...</th>\n",
       "      <td>...</td>\n",
       "      <td>...</td>\n",
       "      <td>...</td>\n",
       "      <td>...</td>\n",
       "      <td>...</td>\n",
       "      <td>...</td>\n",
       "      <td>...</td>\n",
       "      <td>...</td>\n",
       "      <td>...</td>\n",
       "      <td>...</td>\n",
       "      <td>...</td>\n",
       "      <td>...</td>\n",
       "      <td>...</td>\n",
       "      <td>...</td>\n",
       "    </tr>\n",
       "    <tr>\n",
       "      <th>95</th>\n",
       "      <td>Virginia</td>\n",
       "      <td>Virginia Beach</td>\n",
       "      <td>454,353</td>\n",
       "      <td>2083.4</td>\n",
       "      <td>3.08</td>\n",
       "      <td>22.45</td>\n",
       "      <td>59.87</td>\n",
       "      <td>52.16</td>\n",
       "      <td>137.56</td>\n",
       "      <td>165.95</td>\n",
       "      <td>1,667.65</td>\n",
       "      <td>101.02</td>\n",
       "      <td>1,934.62</td>\n",
       "      <td>11.22</td>\n",
       "    </tr>\n",
       "    <tr>\n",
       "      <th>96</th>\n",
       "      <td>Washington</td>\n",
       "      <td>Seattle</td>\n",
       "      <td>721,365</td>\n",
       "      <td>5911.99</td>\n",
       "      <td>3.74</td>\n",
       "      <td>36.87</td>\n",
       "      <td>210.02</td>\n",
       "      <td>382.05</td>\n",
       "      <td>632.69</td>\n",
       "      <td>1,081.98</td>\n",
       "      <td>3,673.45</td>\n",
       "      <td>503.21</td>\n",
       "      <td>5,258.64</td>\n",
       "      <td>20.66</td>\n",
       "    </tr>\n",
       "    <tr>\n",
       "      <th>97</th>\n",
       "      <td>Washington</td>\n",
       "      <td>Vancouver</td>\n",
       "      <td>217,066</td>\n",
       "      <td>7881.01</td>\n",
       "      <td>2.76</td>\n",
       "      <td>109.64</td>\n",
       "      <td>105.50</td>\n",
       "      <td>408.63</td>\n",
       "      <td>626.54</td>\n",
       "      <td>1,023.19</td>\n",
       "      <td>5,408.03</td>\n",
       "      <td>800.22</td>\n",
       "      <td>7,231.44</td>\n",
       "      <td>23.03</td>\n",
       "    </tr>\n",
       "    <tr>\n",
       "      <th>98</th>\n",
       "      <td>Wisconsin</td>\n",
       "      <td>Madison</td>\n",
       "      <td>255,850</td>\n",
       "      <td>3040.46</td>\n",
       "      <td>4.30</td>\n",
       "      <td>37.13</td>\n",
       "      <td>82.86</td>\n",
       "      <td>250.15</td>\n",
       "      <td>374.44</td>\n",
       "      <td>362.32</td>\n",
       "      <td>2,130.94</td>\n",
       "      <td>168.85</td>\n",
       "      <td>2,662.11</td>\n",
       "      <td>3.91</td>\n",
       "    </tr>\n",
       "    <tr>\n",
       "      <th>99</th>\n",
       "      <td>Wisconsin</td>\n",
       "      <td>Milwaukee</td>\n",
       "      <td>595,168</td>\n",
       "      <td>5441.99</td>\n",
       "      <td>19.83</td>\n",
       "      <td>72.92</td>\n",
       "      <td>490.45</td>\n",
       "      <td>1,014.17</td>\n",
       "      <td>1,597.36</td>\n",
       "      <td>927.13</td>\n",
       "      <td>1,940.29</td>\n",
       "      <td>924.61</td>\n",
       "      <td>3,792.04</td>\n",
       "      <td>52.59</td>\n",
       "    </tr>\n",
       "  </tbody>\n",
       "</table>\n",
       "<p>100 rows × 14 columns</p>\n",
       "</div>"
      ],
      "text/plain": [
       "         State            City Population Total (Violent and Property)  \\\n",
       "0      Alabama          Mobile    248,431                      6217.02   \n",
       "1       Alaska       Anchorage    296,188                      6640.04   \n",
       "2      Arizona        Chandler    249,355                      2589.08   \n",
       "3      Arizona         Gilbert    242,090                      1483.75   \n",
       "4      Arizona        Glendale    249,273                      5037.85   \n",
       "..         ...             ...        ...                          ...   \n",
       "95    Virginia  Virginia Beach    454,353                       2083.4   \n",
       "96  Washington         Seattle    721,365                      5911.99   \n",
       "97  Washington       Vancouver    217,066                      7881.01   \n",
       "98   Wisconsin         Madison    255,850                      3040.46   \n",
       "99   Wisconsin       Milwaukee    595,168                      5441.99   \n",
       "\n",
       "   Murder/Manslaughter    Rape Robbery   Assault Total Violent  Burglary  \\\n",
       "0                20.13   58.16  177.11    485.85        740.25  1,216.84   \n",
       "1                 9.12  132.01  262.67    799.49      1,203.29    748.17   \n",
       "2                 2.01   52.13   56.95    148.68        259.47    314.41   \n",
       "3                 2.07   16.11   21.07     46.26         85.51    192.49   \n",
       "4                 4.81   38.91  192.96    251.53        488.22    637.45   \n",
       "..                 ...     ...     ...       ...           ...       ...   \n",
       "95                3.08   22.45   59.87     52.16        137.56    165.95   \n",
       "96                3.74   36.87  210.02    382.05        632.69  1,081.98   \n",
       "97                2.76  109.64  105.50    408.63        626.54  1,023.19   \n",
       "98                4.30   37.13   82.86    250.15        374.44    362.32   \n",
       "99               19.83   72.92  490.45  1,014.17      1,597.36    927.13   \n",
       "\n",
       "   Larceny/Theft Vehicle Theft Total Property  Arson  \n",
       "0       3,730.21        506.78       5,453.83  22.94  \n",
       "1       3,619.66      1,047.98       5,415.82  20.93  \n",
       "2       1,866.01        149.18       2,329.61         \n",
       "3       1,137.59         55.76       1,385.85  12.39  \n",
       "4       3,426.36        466.56       4,530.37  19.26  \n",
       "..           ...           ...            ...    ...  \n",
       "95      1,667.65        101.02       1,934.62  11.22  \n",
       "96      3,673.45        503.21       5,258.64  20.66  \n",
       "97      5,408.03        800.22       7,231.44  23.03  \n",
       "98      2,130.94        168.85       2,662.11   3.91  \n",
       "99      1,940.29        924.61       3,792.04  52.59  \n",
       "\n",
       "[100 rows x 14 columns]"
      ]
     },
     "execution_count": 13,
     "metadata": {},
     "output_type": "execute_result"
    }
   ],
   "source": [
    "#View data\n",
    "crime_data"
   ]
  },
  {
   "cell_type": "code",
   "execution_count": 14,
   "metadata": {},
   "outputs": [
    {
     "name": "stdout",
     "output_type": "stream",
     "text": [
      "Number of rows: 100\n",
      "Number of columns: 14\n"
     ]
    }
   ],
   "source": [
    "#Dimensions\n",
    "num_rows, num_columns = crime_data.shape\n",
    "print(\"Number of rows:\", num_rows)\n",
    "print(\"Number of columns:\", num_columns)"
   ]
  },
  {
   "cell_type": "code",
   "execution_count": 15,
   "metadata": {},
   "outputs": [],
   "source": [
    "#Save as csv file\n",
    "#crime_data.to_csv('crime_data.csv')"
   ]
  },
  {
   "cell_type": "markdown",
   "metadata": {},
   "source": [
    "#### Check data types (?)"
   ]
  },
  {
   "cell_type": "code",
   "execution_count": 16,
   "metadata": {},
   "outputs": [
    {
     "data": {
      "text/plain": [
       "State                           object\n",
       "City                            object\n",
       "Population                      object\n",
       "Total (Violent and Property)    object\n",
       "Murder/Manslaughter             object\n",
       "Rape                            object\n",
       "Robbery                         object\n",
       "Assault                         object\n",
       "Total Violent                   object\n",
       "Burglary                        object\n",
       "Larceny/Theft                   object\n",
       "Vehicle Theft                   object\n",
       "Total Property                  object\n",
       "Arson                           object\n",
       "dtype: object"
      ]
     },
     "execution_count": 16,
     "metadata": {},
     "output_type": "execute_result"
    }
   ],
   "source": [
    "crime_data.dtypes"
   ]
  },
  {
   "cell_type": "code",
   "execution_count": 17,
   "metadata": {},
   "outputs": [],
   "source": [
    "#Convert object to numeric\n",
    "crime_data['Population'] = pd.to_numeric(crime_data['Population'].replace(',', '', regex=True), errors='coerce')\n",
    "crime_data['Total Property'] = pd.to_numeric(crime_data['Total Property'].replace(',', '', regex=True), errors='coerce')\n",
    "crime_data['Larceny/Theft'] = pd.to_numeric(crime_data['Larceny/Theft'].replace(',', '', regex=True), errors='coerce')\n",
    "crime_data['Burglary'] = pd.to_numeric(crime_data['Burglary'].replace(',', '', regex=True), errors='coerce')\n",
    "crime_data['Vehicle Theft'] = pd.to_numeric(crime_data['Vehicle Theft'].replace(',', '', regex=True), errors='coerce')\n",
    "crime_data['Assault'] = pd.to_numeric(crime_data['Assault'].replace(',', '', regex=True), errors='coerce')\n",
    "crime_data['Rape'] = pd.to_numeric(crime_data['Rape'].replace(',', '', regex=True), errors='coerce')\n",
    "crime_data['Arson'] = pd.to_numeric(crime_data['Arson'].replace(',', '', regex=True), errors='coerce')\n",
    "crime_data['Total Violent'] = pd.to_numeric(crime_data['Total Violent'].replace(',', '', regex=True), errors='coerce')\n",
    "\n",
    "crime_data['Total (Violent and Property)'] = pd.to_numeric(crime_data['Total (Violent and Property)'], errors='coerce')\n",
    "crime_data['Murder/Manslaughter'] = pd.to_numeric(crime_data['Murder/Manslaughter'], errors='coerce')\n",
    "crime_data['Robbery'] = pd.to_numeric(crime_data['Robbery'], errors='coerce')"
   ]
  },
  {
   "cell_type": "markdown",
   "metadata": {},
   "source": [
    "#### Check for NA"
   ]
  },
  {
   "cell_type": "code",
   "execution_count": 22,
   "metadata": {},
   "outputs": [
    {
     "name": "stdout",
     "output_type": "stream",
     "text": [
      "Missing values in DataFrame:\n",
      "State                           0\n",
      "City                            0\n",
      "Population                      0\n",
      "Total (Violent and Property)    0\n",
      "Murder/Manslaughter             0\n",
      "Rape                            0\n",
      "Robbery                         0\n",
      "Assault                         0\n",
      "Total Violent                   0\n",
      "Burglary                        0\n",
      "Larceny/Theft                   0\n",
      "Vehicle Theft                   0\n",
      "Total Property                  0\n",
      "Arson                           0\n",
      "dtype: int64\n"
     ]
    }
   ],
   "source": [
    "missing_values = crime_data.isnull().sum()\n",
    "print(\"Missing values in DataFrame:\")\n",
    "print(missing_values)"
   ]
  },
  {
   "cell_type": "markdown",
   "metadata": {},
   "source": [
    "#### Check for Duplicates"
   ]
  },
  {
   "cell_type": "code",
   "execution_count": 16,
   "metadata": {},
   "outputs": [
    {
     "name": "stdout",
     "output_type": "stream",
     "text": [
      "Missing values in DataFrame:\n",
      "0\n"
     ]
    }
   ],
   "source": [
    "duplicates_values = crime_data.duplicated().sum()\n",
    "print(\"Missing values in DataFrame:\")\n",
    "print(duplicates_values)"
   ]
  },
  {
   "cell_type": "markdown",
   "metadata": {},
   "source": [
    "#### Handle Missing Values"
   ]
  },
  {
   "cell_type": "code",
   "execution_count": 21,
   "metadata": {},
   "outputs": [],
   "source": [
    "#Columns wiht missing values: Rape, Total Violent, and Arson\n",
    "missingval_col = ['Rape', 'Total Violent', 'Arson']\n",
    "\n",
    "#Get mean within each column\n",
    "mean_values = crime_data[missingval_col].mean() \n",
    "\n",
    "#Fill with mean imputation\n",
    "crime_data[missingval_col] = crime_data[missingval_col].fillna(mean_values)"
   ]
  },
  {
   "cell_type": "markdown",
   "metadata": {},
   "source": [
    "#### Descriptive statistics"
   ]
  },
  {
   "cell_type": "code",
   "execution_count": 23,
   "metadata": {},
   "outputs": [],
   "source": [
    "#Only looking at crimes\n",
    "selected_columns = ['Murder/Manslaughter', 'Rape', 'Robbery', 'Assault', 'Burglary',  'Larceny/Theft',  'Vehicle Theft', 'Arson']\n",
    "\n",
    "# Create a new DataFrame with the selected columns\n",
    "crime_only = crime_data[selected_columns].copy()"
   ]
  },
  {
   "cell_type": "code",
   "execution_count": 24,
   "metadata": {},
   "outputs": [
    {
     "data": {
      "text/html": [
       "<div>\n",
       "<style scoped>\n",
       "    .dataframe tbody tr th:only-of-type {\n",
       "        vertical-align: middle;\n",
       "    }\n",
       "\n",
       "    .dataframe tbody tr th {\n",
       "        vertical-align: top;\n",
       "    }\n",
       "\n",
       "    .dataframe thead th {\n",
       "        text-align: right;\n",
       "    }\n",
       "</style>\n",
       "<table border=\"1\" class=\"dataframe\">\n",
       "  <thead>\n",
       "    <tr style=\"text-align: right;\">\n",
       "      <th></th>\n",
       "      <th>Larceny/Theft</th>\n",
       "      <th>Burglary</th>\n",
       "      <th>Vehicle Theft</th>\n",
       "      <th>Assault</th>\n",
       "      <th>Robbery</th>\n",
       "      <th>Rape</th>\n",
       "      <th>Arson</th>\n",
       "      <th>Murder/Manslaughter</th>\n",
       "    </tr>\n",
       "  </thead>\n",
       "  <tbody>\n",
       "    <tr>\n",
       "      <th>count</th>\n",
       "      <td>100.000000</td>\n",
       "      <td>100.000000</td>\n",
       "      <td>100.000000</td>\n",
       "      <td>100.00000</td>\n",
       "      <td>100.000000</td>\n",
       "      <td>100.000000</td>\n",
       "      <td>100.000000</td>\n",
       "      <td>100.000000</td>\n",
       "    </tr>\n",
       "    <tr>\n",
       "      <th>mean</th>\n",
       "      <td>2466.824000</td>\n",
       "      <td>647.612300</td>\n",
       "      <td>477.689900</td>\n",
       "      <td>430.54330</td>\n",
       "      <td>229.274100</td>\n",
       "      <td>59.942083</td>\n",
       "      <td>24.661957</td>\n",
       "      <td>11.618400</td>\n",
       "    </tr>\n",
       "    <tr>\n",
       "      <th>std</th>\n",
       "      <td>953.287709</td>\n",
       "      <td>323.872754</td>\n",
       "      <td>283.276318</td>\n",
       "      <td>287.05522</td>\n",
       "      <td>159.584269</td>\n",
       "      <td>28.229882</td>\n",
       "      <td>20.009538</td>\n",
       "      <td>10.940627</td>\n",
       "    </tr>\n",
       "    <tr>\n",
       "      <th>min</th>\n",
       "      <td>915.500000</td>\n",
       "      <td>128.870000</td>\n",
       "      <td>55.760000</td>\n",
       "      <td>23.90000</td>\n",
       "      <td>19.920000</td>\n",
       "      <td>13.850000</td>\n",
       "      <td>0.730000</td>\n",
       "      <td>0.720000</td>\n",
       "    </tr>\n",
       "    <tr>\n",
       "      <th>25%</th>\n",
       "      <td>1813.807500</td>\n",
       "      <td>382.092500</td>\n",
       "      <td>285.805000</td>\n",
       "      <td>249.33250</td>\n",
       "      <td>127.540000</td>\n",
       "      <td>39.165000</td>\n",
       "      <td>10.640000</td>\n",
       "      <td>4.185000</td>\n",
       "    </tr>\n",
       "    <tr>\n",
       "      <th>50%</th>\n",
       "      <td>2378.305000</td>\n",
       "      <td>599.735000</td>\n",
       "      <td>451.390000</td>\n",
       "      <td>399.59000</td>\n",
       "      <td>191.090000</td>\n",
       "      <td>58.290000</td>\n",
       "      <td>19.995000</td>\n",
       "      <td>8.595000</td>\n",
       "    </tr>\n",
       "    <tr>\n",
       "      <th>75%</th>\n",
       "      <td>2921.770000</td>\n",
       "      <td>833.040000</td>\n",
       "      <td>592.072500</td>\n",
       "      <td>530.66500</td>\n",
       "      <td>306.512500</td>\n",
       "      <td>73.595000</td>\n",
       "      <td>29.760000</td>\n",
       "      <td>15.702500</td>\n",
       "    </tr>\n",
       "    <tr>\n",
       "      <th>max</th>\n",
       "      <td>5408.030000</td>\n",
       "      <td>1518.870000</td>\n",
       "      <td>1368.780000</td>\n",
       "      <td>1519.55000</td>\n",
       "      <td>958.710000</td>\n",
       "      <td>144.670000</td>\n",
       "      <td>129.550000</td>\n",
       "      <td>66.070000</td>\n",
       "    </tr>\n",
       "  </tbody>\n",
       "</table>\n",
       "</div>"
      ],
      "text/plain": [
       "       Larceny/Theft     Burglary  Vehicle Theft     Assault     Robbery  \\\n",
       "count     100.000000   100.000000     100.000000   100.00000  100.000000   \n",
       "mean     2466.824000   647.612300     477.689900   430.54330  229.274100   \n",
       "std       953.287709   323.872754     283.276318   287.05522  159.584269   \n",
       "min       915.500000   128.870000      55.760000    23.90000   19.920000   \n",
       "25%      1813.807500   382.092500     285.805000   249.33250  127.540000   \n",
       "50%      2378.305000   599.735000     451.390000   399.59000  191.090000   \n",
       "75%      2921.770000   833.040000     592.072500   530.66500  306.512500   \n",
       "max      5408.030000  1518.870000    1368.780000  1519.55000  958.710000   \n",
       "\n",
       "             Rape       Arson  Murder/Manslaughter  \n",
       "count  100.000000  100.000000           100.000000  \n",
       "mean    59.942083   24.661957            11.618400  \n",
       "std     28.229882   20.009538            10.940627  \n",
       "min     13.850000    0.730000             0.720000  \n",
       "25%     39.165000   10.640000             4.185000  \n",
       "50%     58.290000   19.995000             8.595000  \n",
       "75%     73.595000   29.760000            15.702500  \n",
       "max    144.670000  129.550000            66.070000  "
      ]
     },
     "execution_count": 24,
     "metadata": {},
     "output_type": "execute_result"
    }
   ],
   "source": [
    "statistics = crime_only.describe().sort_values(by='mean', axis=1, ascending = False)\n",
    "statistics "
   ]
  },
  {
   "cell_type": "markdown",
   "metadata": {},
   "source": [
    "* Larceny/Theft has the highest average while Murder/Manslaughter has the lowest average"
   ]
  },
  {
   "cell_type": "markdown",
   "metadata": {},
   "source": [
    "## Data Visualizations"
   ]
  },
  {
   "cell_type": "code",
   "execution_count": null,
   "metadata": {},
   "outputs": [],
   "source": []
  }
 ],
 "metadata": {
  "kernelspec": {
   "display_name": "Python 3",
   "language": "python",
   "name": "python3"
  },
  "language_info": {
   "codemirror_mode": {
    "name": "ipython",
    "version": 3
   },
   "file_extension": ".py",
   "mimetype": "text/x-python",
   "name": "python",
   "nbconvert_exporter": "python",
   "pygments_lexer": "ipython3",
   "version": "3.8.3"
  }
 },
 "nbformat": 4,
 "nbformat_minor": 4
}
